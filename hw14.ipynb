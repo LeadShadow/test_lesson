{
  "nbformat": 4,
  "nbformat_minor": 0,
  "metadata": {
    "colab": {
      "provenance": [],
      "authorship_tag": "ABX9TyMZbN7DGgwvtGb5DS0t8oPz",
      "include_colab_link": true
    },
    "kernelspec": {
      "name": "python3",
      "display_name": "Python 3"
    },
    "language_info": {
      "name": "python"
    }
  },
  "cells": [
    {
      "cell_type": "markdown",
      "metadata": {
        "id": "view-in-github",
        "colab_type": "text"
      },
      "source": [
        "<a href=\"https://colab.research.google.com/github/LeadShadow/test_lesson/blob/main/hw14.ipynb\" target=\"_parent\"><img src=\"https://colab.research.google.com/assets/colab-badge.svg\" alt=\"Open In Colab\"/></a>"
      ]
    },
    {
      "cell_type": "code",
      "execution_count": 1,
      "metadata": {
        "colab": {
          "base_uri": "https://localhost:8080/"
        },
        "id": "2Xv_5kyH85Fq",
        "outputId": "f2d04b24-127f-4aaa-a7cc-0db54edf4a20"
      },
      "outputs": [
        {
          "output_type": "stream",
          "name": "stdout",
          "text": [
            "AlexKdfe23.\n",
            "11\n"
          ]
        }
      ],
      "source": [
        "# Напишите функцию real_len, которая подсчитывает и возвращает длину строки без\n",
        "# следующих управляющих символов: [\\n, \\f, \\r, \\t, \\v]\n",
        "#\n",
        "# Для проверки правильности работы функции real_len ей будут переданы следующие строки:\n",
        "#\n",
        "# 'Alex\\nKdfe23\\t\\f\\v.\\r'\n",
        "# 'Al\\nKdfe23\\t\\v.\\r'\n",
        "def real_len(name: str):\n",
        "    new_string = name.replace('\\n', '').replace('\\f', '').replace('\\r', '').replace('\\t', '').replace('\\v', '')\n",
        "    print(new_string)\n",
        "    return len(new_string)\n",
        "\n",
        "\n",
        "print(real_len('Alex\\nKdfe23\\t\\f\\v.\\r'))\n"
      ]
    }
  ]
}